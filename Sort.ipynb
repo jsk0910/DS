{
 "cells": [
  {
   "cell_type": "markdown",
   "id": "2d26ab78-2cbe-4255-9324-1bc40c02d5cd",
   "metadata": {},
   "source": [
    "### Sort 수정 코드  \n",
    "해당 문서는 8장. Sorting의 문제 발생 코드들을 수정한 문서입니다."
   ]
  },
  {
   "cell_type": "markdown",
   "id": "2b57eab7-d70e-4f0c-a588-61855e0e1796",
   "metadata": {
    "tags": []
   },
   "source": [
    "#### 선택 정렬 수정 코드 설명  \n",
    "수정된 부분 -> 최댓값을 구하는 함수  \n",
    "변수 last까지 중에서 최댓값을 구해야합니다.\n",
    "```python\n",
    "for i in range(last):\n",
    "```\n",
    "이 코드는 0부터 last - 1 까지 반복하게 됩니다. 그래서 다음과 같이 작성해야 합니다.\n",
    "```python\n",
    "for i in range(last + 1):\n",
    "```"
   ]
  },
  {
   "cell_type": "code",
   "execution_count": 9,
   "id": "42040f8c-0959-4928-b2d1-dc7548b819fd",
   "metadata": {},
   "outputs": [],
   "source": [
    "def selectionSort(A):\n",
    "    for last in range(len(A)-1, 0, -1):\n",
    "        k = theLargest(A, last)\n",
    "        A[k], A[last] = A[last], A[k]\n",
    "        \n",
    "def theLargest(A, last:int) -> int:\n",
    "    largest = 0\n",
    "    for i in range(last+1):\n",
    "        if A[i] > A[largest]:\n",
    "            largest = i\n",
    "        \n",
    "    return largest\n",
    "\n",
    "def selectionSortRec(A, n):\n",
    "    if n > 2:\n",
    "        k = theLargest4Rec(A, n-1)\n",
    "        \n",
    "        A[k], A[n-1] = A[n-1], A[k]\n",
    "        selectionSortRec(A, n-1)\n",
    "        \n",
    "def theLargest4Rec(A, last:int) -> int:\n",
    "    largest = 0\n",
    "    for i in range(last + 1): # 수정된 부분\n",
    "        if A[i] > A[largest]:\n",
    "            largest = i\n",
    "    return largest"
   ]
  },
  {
   "cell_type": "markdown",
   "id": "fef0b7d8-f429-46ef-bee3-8efbf2a4d3c2",
   "metadata": {},
   "source": [
    "#### 삽입 정렬 수정 코드 설명  \n",
    "수정된 부분 -> 재귀 함수 if문  \n",
    "강의자료에서 해당 함수를 실행할 때 다음과 같이 사용합니다.  \n",
    "```python\n",
    "insertionSortRec(A, 1, listlength-1)\n",
    "```\n",
    "이 때 listlength - 1이 마지막 인덱스 번호입니다.  \n",
    "그렇기 때문에 원래 코드대로 작성하면 마지막에 있는 요소를 정렬하지 못합니다.  \n",
    "그래서 if 조건문에 < 대신 <= 로 바꿔줘야 합니다."
   ]
  },
  {
   "cell_type": "code",
   "execution_count": 21,
   "id": "6f15d7e0-e9f2-4b12-983c-9f61cbfe2359",
   "metadata": {},
   "outputs": [],
   "source": [
    "# 삽입 정렬 함수 - 재귀\n",
    "def insertionSortRec(A, start, end):\n",
    "    value = A[start]\n",
    "    loc = start\n",
    "    while loc > 0 and A[loc - 1] > value:\n",
    "        A[loc] = A[loc - 1]\n",
    "        loc -= 1\n",
    "    A[loc] = value\n",
    "    if start + 1 <= end: # 수정된 부분\n",
    "        insertionSortRec(A, start+1, end)"
   ]
  },
  {
   "cell_type": "code",
   "execution_count": 22,
   "id": "38f8c5e9-b12f-4aee-acc1-bfade881a03e",
   "metadata": {},
   "outputs": [
    {
     "name": "stdout",
     "output_type": "stream",
     "text": [
      "[5, 6, 7, 8, 9, 10]\n"
     ]
    }
   ],
   "source": [
    "A = [10, 9, 8, 7, 6, 5]\n",
    "insertionSortRec(A, 1, 5)\n",
    "print(A)"
   ]
  },
  {
   "cell_type": "code",
   "execution_count": null,
   "id": "6d2a7bf0-aac4-463b-b4db-36dd5cf7ac83",
   "metadata": {},
   "outputs": [],
   "source": []
  }
 ],
 "metadata": {
  "kernelspec": {
   "display_name": "Python 3 (ipykernel)",
   "language": "python",
   "name": "python3"
  },
  "language_info": {
   "codemirror_mode": {
    "name": "ipython",
    "version": 3
   },
   "file_extension": ".py",
   "mimetype": "text/x-python",
   "name": "python",
   "nbconvert_exporter": "python",
   "pygments_lexer": "ipython3",
   "version": "3.9.12"
  }
 },
 "nbformat": 4,
 "nbformat_minor": 5
}
